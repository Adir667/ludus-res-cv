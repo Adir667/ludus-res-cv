{
 "cells": [
  {
   "cell_type": "markdown",
   "metadata": {
    "tags": []
   },
   "source": [
    "# Ludus response time - MLOps\n",
    "\n",
    "https://github.com/Adir667/ludus-res-cv"
   ]
  },
  {
   "cell_type": "markdown",
   "metadata": {},
   "source": [
    "---"
   ]
  },
  {
   "cell_type": "markdown",
   "metadata": {
    "jp-MarkdownHeadingCollapsed": true,
    "tags": []
   },
   "source": [
    "# Introduction"
   ]
  },
  {
   "cell_type": "markdown",
   "metadata": {},
   "source": [
    "Prediction of response time, messing with big data"
   ]
  },
  {
   "cell_type": "markdown",
   "metadata": {
    "jp-MarkdownHeadingCollapsed": true,
    "tags": []
   },
   "source": [
    "# Import libraries"
   ]
  },
  {
   "cell_type": "code",
   "execution_count": 1,
   "metadata": {},
   "outputs": [
    {
     "name": "stdout",
     "output_type": "stream",
     "text": [
      "NumPy already installed, only imported\n",
      "PyPlot already installed, only imported\n",
      "Pandas already installed, only imported\n",
      "sklearn already installed, only imported\n",
      "scipy already installed, only imported\n",
      "Seaborn already installed, only imported\n",
      "Pymongo already installed, only imported\n"
     ]
    }
   ],
   "source": [
    "# numpy as np\n",
    "try:\n",
    "    import numpy as np\n",
    "    print('NumPy already installed, only imported')\n",
    "except ImportError:\n",
    "    !pip install numpy\n",
    "    import numpy as np\n",
    "    print('NumPy was not installed, installed and imported')\n",
    "      \n",
    "# pyplot as plt\n",
    "try:\n",
    "    import matplotlib.pyplot as plt\n",
    "    print('PyPlot already installed, only imported')\n",
    "except ImportError:\n",
    "    !pip install matplotlib\n",
    "    import matplotlib.pyplot as plt\n",
    "    print('PyPlot was not installed, installed and imported')\n",
    "\n",
    "#pandas as pd\n",
    "try:\n",
    "    import pandas as pd\n",
    "    print('Pandas already installed, only imported')\n",
    "except ImportError:\n",
    "    !pip install pandas\n",
    "    import pandas as pd\n",
    "    print('Pandas was not installed, installed and imported')\n",
    "    \n",
    "#skleran    \n",
    "try:\n",
    "    import sklearn\n",
    "    print('sklearn already installed, only imported')\n",
    "except ImportError:\n",
    "    !pip install sklearn\n",
    "    print('sklearn was not installed, installed and imported')\n",
    "\n",
    "#scipy    \n",
    "try:\n",
    "    import scipy\n",
    "    print('scipy already installed, only imported')\n",
    "except ImportError:\n",
    "    !pip install scipy\n",
    "    print('scipy was not installed, installed and imported')\n",
    "    \n",
    "#seaboen as sns\n",
    "try:\n",
    "    import seaborn as sns\n",
    "    print('Seaborn already installed, only imported')\n",
    "except ImportError:\n",
    "    !pip install seaborn\n",
    "    import seaborn as sns\n",
    "    print('Seaborn was not installed, installed and imported')\n",
    "    \n",
    "#pymongo\n",
    "try:\n",
    "    import pymongo\n",
    "    print('Pymongo already installed, only imported')\n",
    "except ImportError:\n",
    "    !pip install pymongo\n",
    "    import pymongo\n",
    "    print('Pymongo was not installed, installed and imported')  "
   ]
  },
  {
   "cell_type": "markdown",
   "metadata": {},
   "source": [
    "# Database connection"
   ]
  },
  {
   "cell_type": "code",
   "execution_count": 2,
   "metadata": {},
   "outputs": [],
   "source": [
    "import pandas as pd\n",
    "from pymongo import MongoClient\n",
    "from datetime import datetime, timedelta\n",
    "\n",
    "# Connect to MongoDB\n",
    "client = MongoClient('mongodb+srv://<username>:<password>@ludus.shsntx0.mongodb.net/?retryWrites=true&w=majority')\n",
    "db = client['ludus']"
   ]
  },
  {
   "cell_type": "markdown",
   "metadata": {
    "tags": []
   },
   "source": [
    "# 1. Data processing"
   ]
  },
  {
   "cell_type": "markdown",
   "metadata": {
    "tags": []
   },
   "source": [
    "## 1.1 Overview"
   ]
  },
  {
   "cell_type": "markdown",
   "metadata": {
    "tags": []
   },
   "source": [
    "### 1.1.1 Users"
   ]
  },
  {
   "cell_type": "code",
   "execution_count": 3,
   "metadata": {},
   "outputs": [
    {
     "data": {
      "text/html": [
       "<div>\n",
       "<style scoped>\n",
       "    .dataframe tbody tr th:only-of-type {\n",
       "        vertical-align: middle;\n",
       "    }\n",
       "\n",
       "    .dataframe tbody tr th {\n",
       "        vertical-align: top;\n",
       "    }\n",
       "\n",
       "    .dataframe thead th {\n",
       "        text-align: right;\n",
       "    }\n",
       "</style>\n",
       "<table border=\"1\" class=\"dataframe\">\n",
       "  <thead>\n",
       "    <tr style=\"text-align: right;\">\n",
       "      <th></th>\n",
       "      <th>_id</th>\n",
       "      <th>user_id</th>\n",
       "      <th>first_name</th>\n",
       "      <th>last_name</th>\n",
       "      <th>field_id</th>\n",
       "      <th>club_id</th>\n",
       "      <th>date_of_birth</th>\n",
       "      <th>experience</th>\n",
       "      <th>age</th>\n",
       "    </tr>\n",
       "  </thead>\n",
       "  <tbody>\n",
       "    <tr>\n",
       "      <th>0</th>\n",
       "      <td>6474ff3a4c4624da9e289d4d</td>\n",
       "      <td>1</td>\n",
       "      <td>John</td>\n",
       "      <td>Holland</td>\n",
       "      <td>2</td>\n",
       "      <td>7</td>\n",
       "      <td>1983-09-05</td>\n",
       "      <td>10</td>\n",
       "      <td>39</td>\n",
       "    </tr>\n",
       "    <tr>\n",
       "      <th>1</th>\n",
       "      <td>6474ff3a4c4624da9e289d4e</td>\n",
       "      <td>2</td>\n",
       "      <td>Murat</td>\n",
       "      <td>Jansen</td>\n",
       "      <td>1</td>\n",
       "      <td>4</td>\n",
       "      <td>1999-05-22</td>\n",
       "      <td>9</td>\n",
       "      <td>24</td>\n",
       "    </tr>\n",
       "    <tr>\n",
       "      <th>2</th>\n",
       "      <td>6474ff3a4c4624da9e289d4f</td>\n",
       "      <td>3</td>\n",
       "      <td>Wiley</td>\n",
       "      <td>Holland</td>\n",
       "      <td>8</td>\n",
       "      <td>2</td>\n",
       "      <td>1996-08-14</td>\n",
       "      <td>3</td>\n",
       "      <td>26</td>\n",
       "    </tr>\n",
       "    <tr>\n",
       "      <th>3</th>\n",
       "      <td>6474ff3a4c4624da9e289d50</td>\n",
       "      <td>4</td>\n",
       "      <td>Nick</td>\n",
       "      <td>Ludus</td>\n",
       "      <td>3</td>\n",
       "      <td>9</td>\n",
       "      <td>2002-09-12</td>\n",
       "      <td>7</td>\n",
       "      <td>20</td>\n",
       "    </tr>\n",
       "    <tr>\n",
       "      <th>4</th>\n",
       "      <td>6474ff3a4c4624da9e289d51</td>\n",
       "      <td>5</td>\n",
       "      <td>Wiley</td>\n",
       "      <td>Ludus</td>\n",
       "      <td>7</td>\n",
       "      <td>20</td>\n",
       "      <td>1994-04-16</td>\n",
       "      <td>15</td>\n",
       "      <td>29</td>\n",
       "    </tr>\n",
       "  </tbody>\n",
       "</table>\n",
       "</div>"
      ],
      "text/plain": [
       "                        _id  user_id first_name last_name  field_id  club_id  \\\n",
       "0  6474ff3a4c4624da9e289d4d        1       John   Holland         2        7   \n",
       "1  6474ff3a4c4624da9e289d4e        2      Murat    Jansen         1        4   \n",
       "2  6474ff3a4c4624da9e289d4f        3      Wiley   Holland         8        2   \n",
       "3  6474ff3a4c4624da9e289d50        4       Nick     Ludus         3        9   \n",
       "4  6474ff3a4c4624da9e289d51        5      Wiley     Ludus         7       20   \n",
       "\n",
       "  date_of_birth  experience  age  \n",
       "0    1983-09-05          10   39  \n",
       "1    1999-05-22           9   24  \n",
       "2    1996-08-14           3   26  \n",
       "3    2002-09-12           7   20  \n",
       "4    1994-04-16          15   29  "
      ]
     },
     "execution_count": 3,
     "metadata": {},
     "output_type": "execute_result"
    }
   ],
   "source": [
    "# Fetch data from the collection\n",
    "data = db['user'].find()\n",
    "\n",
    "# Convert data to a DataFrame\n",
    "users_df = pd.DataFrame(list(data))\n",
    "\n",
    "# Calculate the age of the user and append to the DataFrame\n",
    "users_df['date_of_birth'] = pd.to_datetime(users_df['date_of_birth'])\n",
    "users_df['age'] = (datetime.now().date() - users_df['date_of_birth'].dt.date).dt.days // 365\n",
    "\n",
    "# Print the DataFrame\n",
    "users_df.head()"
   ]
  },
  {
   "cell_type": "markdown",
   "metadata": {},
   "source": [
    "Visualization (age):"
   ]
  },
  {
   "cell_type": "markdown",
   "metadata": {},
   "source": [
    "Boxplot"
   ]
  },
  {
   "cell_type": "code",
   "execution_count": 4,
   "metadata": {},
   "outputs": [
    {
     "data": {
      "image/png": "[encoded data removed]",
      "text/plain": [
       "<Figure size 640x480 with 1 Axes>"
      ]
     },
     "metadata": {},
     "output_type": "display_data"
    }
   ],
   "source": [
    "users_df.boxplot('age', grid = False, vert = False)\n",
    "plt.show()"
   ]
  },
  {
   "cell_type": "markdown",
   "metadata": {},
   "source": [
    "Histogram"
   ]
  },
  {
   "cell_type": "code",
   "execution_count": 5,
   "metadata": {},
   "outputs": [
    {
     "data": {
      "image/png": "[encoded data removed]",
      "text/plain": [
       "<Figure size 640x480 with 1 Axes>"
      ]
     },
     "metadata": {},
     "output_type": "display_data"
    }
   ],
   "source": [
    "# Create the histogram\n",
    "plt.hist(users_df['age'], bins=10, edgecolor='black')\n",
    "\n",
    "# Set the labels and title\n",
    "plt.xlabel('Age')\n",
    "plt.ylabel('Frequency')\n",
    "plt.title('Age Distribution')\n",
    "\n",
    "# Show the histogram\n",
    "plt.show()"
   ]
  },
  {
   "cell_type": "markdown",
   "metadata": {},
   "source": [
    "Visualization (experience):"
   ]
  },
  {
   "cell_type": "markdown",
   "metadata": {},
   "source": [
    "Boxplot"
   ]
  },
  {
   "cell_type": "code",
   "execution_count": 6,
   "metadata": {},
   "outputs": [
    {
     "data": {
      "image/png": "[encoded data removed]",
      "text/plain": [
       "<Figure size 640x480 with 1 Axes>"
      ]
     },
     "metadata": {},
     "output_type": "display_data"
    }
   ],
   "source": [
    "users_df.boxplot('experience', grid = False, vert = False)\n",
    "plt.show()"
   ]
  },
  {
   "cell_type": "markdown",
   "metadata": {},
   "source": [
    "Histogram"
   ]
  },
  {
   "cell_type": "code",
   "execution_count": 7,
   "metadata": {},
   "outputs": [
    {
     "data": {
      "image/png": "[encoded data removed]",
      "text/plain": [
       "<Figure size 640x480 with 1 Axes>"
      ]
     },
     "metadata": {},
     "output_type": "display_data"
    }
   ],
   "source": [
    "# Create the histogram\n",
    "plt.hist(users_df['experience'], bins=10, edgecolor='black')\n",
    "\n",
    "# Set the labels and title\n",
    "plt.xlabel('Experience')\n",
    "plt.ylabel('Frequency')\n",
    "plt.title('Experience Distribution')\n",
    "\n",
    "# Show the histogram\n",
    "plt.show()"
   ]
  },
  {
   "cell_type": "markdown",
   "metadata": {
    "tags": []
   },
   "source": [
    "### 1.1.2 Clubs"
   ]
  },
  {
   "cell_type": "code",
   "execution_count": 8,
   "metadata": {},
   "outputs": [],
   "source": [
    "# Fetch data from the collection\n",
    "data = db['club'].find()\n",
    "\n",
    "# Convert data to a DataFrame\n",
    "clubs_df = pd.DataFrame(list(data))"
   ]
  },
  {
   "cell_type": "code",
   "execution_count": 9,
   "metadata": {},
   "outputs": [
    {
     "data": {
      "text/html": [
       "<div>\n",
       "<style scoped>\n",
       "    .dataframe tbody tr th:only-of-type {\n",
       "        vertical-align: middle;\n",
       "    }\n",
       "\n",
       "    .dataframe tbody tr th {\n",
       "        vertical-align: top;\n",
       "    }\n",
       "\n",
       "    .dataframe thead th {\n",
       "        text-align: right;\n",
       "    }\n",
       "</style>\n",
       "<table border=\"1\" class=\"dataframe\">\n",
       "  <thead>\n",
       "    <tr style=\"text-align: right;\">\n",
       "      <th></th>\n",
       "      <th>_id</th>\n",
       "      <th>club_id</th>\n",
       "      <th>name</th>\n",
       "      <th>country</th>\n",
       "    </tr>\n",
       "  </thead>\n",
       "  <tbody>\n",
       "    <tr>\n",
       "      <th>0</th>\n",
       "      <td>6474ffb54c4624da9e28a136</td>\n",
       "      <td>1</td>\n",
       "      <td>Lions of the Ludus</td>\n",
       "      <td>NL</td>\n",
       "    </tr>\n",
       "    <tr>\n",
       "      <th>1</th>\n",
       "      <td>6474ffb54c4624da9e28a137</td>\n",
       "      <td>2</td>\n",
       "      <td>Tigers of the Sun</td>\n",
       "      <td>UK</td>\n",
       "    </tr>\n",
       "    <tr>\n",
       "      <th>2</th>\n",
       "      <td>6474ffb54c4624da9e28a138</td>\n",
       "      <td>3</td>\n",
       "      <td>Warriors of the Sea</td>\n",
       "      <td>IL</td>\n",
       "    </tr>\n",
       "    <tr>\n",
       "      <th>3</th>\n",
       "      <td>6474ffb54c4624da9e28a139</td>\n",
       "      <td>4</td>\n",
       "      <td>Lions of the Sun</td>\n",
       "      <td>UK</td>\n",
       "    </tr>\n",
       "    <tr>\n",
       "      <th>4</th>\n",
       "      <td>6474ffb54c4624da9e28a13a</td>\n",
       "      <td>5</td>\n",
       "      <td>Lions of the Sea</td>\n",
       "      <td>BR</td>\n",
       "    </tr>\n",
       "  </tbody>\n",
       "</table>\n",
       "</div>"
      ],
      "text/plain": [
       "                        _id  club_id                 name country\n",
       "0  6474ffb54c4624da9e28a136        1   Lions of the Ludus      NL\n",
       "1  6474ffb54c4624da9e28a137        2    Tigers of the Sun      UK\n",
       "2  6474ffb54c4624da9e28a138        3  Warriors of the Sea      IL\n",
       "3  6474ffb54c4624da9e28a139        4     Lions of the Sun      UK\n",
       "4  6474ffb54c4624da9e28a13a        5     Lions of the Sea      BR"
      ]
     },
     "execution_count": 9,
     "metadata": {},
     "output_type": "execute_result"
    }
   ],
   "source": [
    "clubs_df.head()"
   ]
  },
  {
   "cell_type": "markdown",
   "metadata": {
    "tags": []
   },
   "source": [
    "### 1.1.3 Feilds"
   ]
  },
  {
   "cell_type": "code",
   "execution_count": 10,
   "metadata": {},
   "outputs": [],
   "source": [
    "# Fetch data from the collection\n",
    "data = db['field'].find()\n",
    "\n",
    "# Convert data to a DataFrame\n",
    "fields_df = pd.DataFrame(list(data))"
   ]
  },
  {
   "cell_type": "code",
   "execution_count": 11,
   "metadata": {},
   "outputs": [
    {
     "data": {
      "text/html": [
       "<div>\n",
       "<style scoped>\n",
       "    .dataframe tbody tr th:only-of-type {\n",
       "        vertical-align: middle;\n",
       "    }\n",
       "\n",
       "    .dataframe tbody tr th {\n",
       "        vertical-align: top;\n",
       "    }\n",
       "\n",
       "    .dataframe thead th {\n",
       "        text-align: right;\n",
       "    }\n",
       "</style>\n",
       "<table border=\"1\" class=\"dataframe\">\n",
       "  <thead>\n",
       "    <tr style=\"text-align: right;\">\n",
       "      <th></th>\n",
       "      <th>_id</th>\n",
       "      <th>field_id</th>\n",
       "      <th>name</th>\n",
       "    </tr>\n",
       "  </thead>\n",
       "  <tbody>\n",
       "    <tr>\n",
       "      <th>0</th>\n",
       "      <td>6475004f4c4624da9e28a14b</td>\n",
       "      <td>1</td>\n",
       "      <td>Kararte</td>\n",
       "    </tr>\n",
       "    <tr>\n",
       "      <th>1</th>\n",
       "      <td>6475004f4c4624da9e28a14c</td>\n",
       "      <td>2</td>\n",
       "      <td>Judo</td>\n",
       "    </tr>\n",
       "    <tr>\n",
       "      <th>2</th>\n",
       "      <td>6475004f4c4624da9e28a14d</td>\n",
       "      <td>3</td>\n",
       "      <td>Taekwondo</td>\n",
       "    </tr>\n",
       "    <tr>\n",
       "      <th>3</th>\n",
       "      <td>6475004f4c4624da9e28a14e</td>\n",
       "      <td>4</td>\n",
       "      <td>Kung Fu</td>\n",
       "    </tr>\n",
       "    <tr>\n",
       "      <th>4</th>\n",
       "      <td>6475004f4c4624da9e28a14f</td>\n",
       "      <td>5</td>\n",
       "      <td>BJJ</td>\n",
       "    </tr>\n",
       "  </tbody>\n",
       "</table>\n",
       "</div>"
      ],
      "text/plain": [
       "                        _id  field_id       name\n",
       "0  6475004f4c4624da9e28a14b         1    Kararte\n",
       "1  6475004f4c4624da9e28a14c         2       Judo\n",
       "2  6475004f4c4624da9e28a14d         3  Taekwondo\n",
       "3  6475004f4c4624da9e28a14e         4    Kung Fu\n",
       "4  6475004f4c4624da9e28a14f         5        BJJ"
      ]
     },
     "execution_count": 11,
     "metadata": {},
     "output_type": "execute_result"
    }
   ],
   "source": [
    "fields_df.head()"
   ]
  },
  {
   "cell_type": "markdown",
   "metadata": {
    "tags": []
   },
   "source": [
    "### 1.1.4 Responses"
   ]
  },
  {
   "cell_type": "code",
   "execution_count": 12,
   "metadata": {},
   "outputs": [],
   "source": [
    "# Fetch data from the collection\n",
    "data = db['response'].find()\n",
    "\n",
    "# Convert data to a DataFrame\n",
    "responses_df = pd.DataFrame(list(data))"
   ]
  },
  {
   "cell_type": "code",
   "execution_count": 13,
   "metadata": {},
   "outputs": [
    {
     "data": {
      "text/html": [
       "<div>\n",
       "<style scoped>\n",
       "    .dataframe tbody tr th:only-of-type {\n",
       "        vertical-align: middle;\n",
       "    }\n",
       "\n",
       "    .dataframe tbody tr th {\n",
       "        vertical-align: top;\n",
       "    }\n",
       "\n",
       "    .dataframe thead th {\n",
       "        text-align: right;\n",
       "    }\n",
       "</style>\n",
       "<table border=\"1\" class=\"dataframe\">\n",
       "  <thead>\n",
       "    <tr style=\"text-align: right;\">\n",
       "      <th></th>\n",
       "      <th>_id</th>\n",
       "      <th>user_id</th>\n",
       "      <th>value</th>\n",
       "      <th>timestamp</th>\n",
       "    </tr>\n",
       "  </thead>\n",
       "  <tbody>\n",
       "    <tr>\n",
       "      <th>0</th>\n",
       "      <td>647505e04c4624da9e304277</td>\n",
       "      <td>617</td>\n",
       "      <td>0.466</td>\n",
       "      <td>1679374516</td>\n",
       "    </tr>\n",
       "    <tr>\n",
       "      <th>1</th>\n",
       "      <td>647505e04c4624da9e304278</td>\n",
       "      <td>290</td>\n",
       "      <td>0.956</td>\n",
       "      <td>1680552950</td>\n",
       "    </tr>\n",
       "    <tr>\n",
       "      <th>2</th>\n",
       "      <td>647505e04c4624da9e304279</td>\n",
       "      <td>470</td>\n",
       "      <td>0.803</td>\n",
       "      <td>1683938697</td>\n",
       "    </tr>\n",
       "    <tr>\n",
       "      <th>3</th>\n",
       "      <td>647505e04c4624da9e30427a</td>\n",
       "      <td>274</td>\n",
       "      <td>1.444</td>\n",
       "      <td>1678561104</td>\n",
       "    </tr>\n",
       "    <tr>\n",
       "      <th>4</th>\n",
       "      <td>647505e04c4624da9e30427b</td>\n",
       "      <td>558</td>\n",
       "      <td>0.747</td>\n",
       "      <td>1683086879</td>\n",
       "    </tr>\n",
       "  </tbody>\n",
       "</table>\n",
       "</div>"
      ],
      "text/plain": [
       "                        _id  user_id  value   timestamp\n",
       "0  647505e04c4624da9e304277      617  0.466  1679374516\n",
       "1  647505e04c4624da9e304278      290  0.956  1680552950\n",
       "2  647505e04c4624da9e304279      470  0.803  1683938697\n",
       "3  647505e04c4624da9e30427a      274  1.444  1678561104\n",
       "4  647505e04c4624da9e30427b      558  0.747  1683086879"
      ]
     },
     "execution_count": 13,
     "metadata": {},
     "output_type": "execute_result"
    }
   ],
   "source": [
    "responses_df.head()"
   ]
  },
  {
   "cell_type": "markdown",
   "metadata": {
    "tags": []
   },
   "source": [
    "### 1.1.5 Users stats"
   ]
  },
  {
   "cell_type": "code",
   "execution_count": 14,
   "metadata": {},
   "outputs": [],
   "source": [
    "user_stats = responses_df.groupby('user_id')['value'].agg(['count', 'min', 'max', 'mean']).reset_index()"
   ]
  },
  {
   "cell_type": "code",
   "execution_count": 15,
   "metadata": {},
   "outputs": [
    {
     "data": {
      "text/html": [
       "<div>\n",
       "<style scoped>\n",
       "    .dataframe tbody tr th:only-of-type {\n",
       "        vertical-align: middle;\n",
       "    }\n",
       "\n",
       "    .dataframe tbody tr th {\n",
       "        vertical-align: top;\n",
       "    }\n",
       "\n",
       "    .dataframe thead th {\n",
       "        text-align: right;\n",
       "    }\n",
       "</style>\n",
       "<table border=\"1\" class=\"dataframe\">\n",
       "  <thead>\n",
       "    <tr style=\"text-align: right;\">\n",
       "      <th></th>\n",
       "      <th>user_id</th>\n",
       "      <th>count</th>\n",
       "      <th>min</th>\n",
       "      <th>max</th>\n",
       "      <th>mean</th>\n",
       "    </tr>\n",
       "  </thead>\n",
       "  <tbody>\n",
       "    <tr>\n",
       "      <th>0</th>\n",
       "      <td>1</td>\n",
       "      <td>95</td>\n",
       "      <td>0.113</td>\n",
       "      <td>1.564</td>\n",
       "      <td>0.926189</td>\n",
       "    </tr>\n",
       "    <tr>\n",
       "      <th>1</th>\n",
       "      <td>2</td>\n",
       "      <td>92</td>\n",
       "      <td>0.131</td>\n",
       "      <td>1.571</td>\n",
       "      <td>0.876043</td>\n",
       "    </tr>\n",
       "    <tr>\n",
       "      <th>2</th>\n",
       "      <td>3</td>\n",
       "      <td>74</td>\n",
       "      <td>0.146</td>\n",
       "      <td>1.589</td>\n",
       "      <td>0.874662</td>\n",
       "    </tr>\n",
       "    <tr>\n",
       "      <th>3</th>\n",
       "      <td>4</td>\n",
       "      <td>88</td>\n",
       "      <td>0.122</td>\n",
       "      <td>1.605</td>\n",
       "      <td>0.871432</td>\n",
       "    </tr>\n",
       "    <tr>\n",
       "      <th>4</th>\n",
       "      <td>5</td>\n",
       "      <td>103</td>\n",
       "      <td>0.122</td>\n",
       "      <td>1.600</td>\n",
       "      <td>0.849330</td>\n",
       "    </tr>\n",
       "  </tbody>\n",
       "</table>\n",
       "</div>"
      ],
      "text/plain": [
       "   user_id  count    min    max      mean\n",
       "0        1     95  0.113  1.564  0.926189\n",
       "1        2     92  0.131  1.571  0.876043\n",
       "2        3     74  0.146  1.589  0.874662\n",
       "3        4     88  0.122  1.605  0.871432\n",
       "4        5    103  0.122  1.600  0.849330"
      ]
     },
     "execution_count": 15,
     "metadata": {},
     "output_type": "execute_result"
    }
   ],
   "source": [
    "user_stats.head()"
   ]
  },
  {
   "cell_type": "markdown",
   "metadata": {},
   "source": [
    "### 1.1.6 Users stats extended"
   ]
  },
  {
   "cell_type": "code",
   "execution_count": 16,
   "metadata": {},
   "outputs": [],
   "source": [
    "combined_df = pd.concat([users_df['user_id'], users_df['age'], users_df['experience']], axis=1)\n",
    "combined_df = combined_df.merge(user_stats[['user_id', 'count', 'mean', 'min']], on='user_id', how='inner')"
   ]
  },
  {
   "cell_type": "code",
   "execution_count": 17,
   "metadata": {},
   "outputs": [
    {
     "data": {
      "text/html": [
       "<div>\n",
       "<style scoped>\n",
       "    .dataframe tbody tr th:only-of-type {\n",
       "        vertical-align: middle;\n",
       "    }\n",
       "\n",
       "    .dataframe tbody tr th {\n",
       "        vertical-align: top;\n",
       "    }\n",
       "\n",
       "    .dataframe thead th {\n",
       "        text-align: right;\n",
       "    }\n",
       "</style>\n",
       "<table border=\"1\" class=\"dataframe\">\n",
       "  <thead>\n",
       "    <tr style=\"text-align: right;\">\n",
       "      <th></th>\n",
       "      <th>user_id</th>\n",
       "      <th>age</th>\n",
       "      <th>experience</th>\n",
       "      <th>count</th>\n",
       "      <th>mean</th>\n",
       "      <th>min</th>\n",
       "    </tr>\n",
       "  </thead>\n",
       "  <tbody>\n",
       "    <tr>\n",
       "      <th>0</th>\n",
       "      <td>1</td>\n",
       "      <td>39</td>\n",
       "      <td>10</td>\n",
       "      <td>95</td>\n",
       "      <td>0.926189</td>\n",
       "      <td>0.113</td>\n",
       "    </tr>\n",
       "    <tr>\n",
       "      <th>1</th>\n",
       "      <td>2</td>\n",
       "      <td>24</td>\n",
       "      <td>9</td>\n",
       "      <td>92</td>\n",
       "      <td>0.876043</td>\n",
       "      <td>0.131</td>\n",
       "    </tr>\n",
       "    <tr>\n",
       "      <th>2</th>\n",
       "      <td>3</td>\n",
       "      <td>26</td>\n",
       "      <td>3</td>\n",
       "      <td>74</td>\n",
       "      <td>0.874662</td>\n",
       "      <td>0.146</td>\n",
       "    </tr>\n",
       "    <tr>\n",
       "      <th>3</th>\n",
       "      <td>4</td>\n",
       "      <td>20</td>\n",
       "      <td>7</td>\n",
       "      <td>88</td>\n",
       "      <td>0.871432</td>\n",
       "      <td>0.122</td>\n",
       "    </tr>\n",
       "    <tr>\n",
       "      <th>4</th>\n",
       "      <td>5</td>\n",
       "      <td>29</td>\n",
       "      <td>15</td>\n",
       "      <td>103</td>\n",
       "      <td>0.849330</td>\n",
       "      <td>0.122</td>\n",
       "    </tr>\n",
       "  </tbody>\n",
       "</table>\n",
       "</div>"
      ],
      "text/plain": [
       "   user_id  age  experience  count      mean    min\n",
       "0        1   39          10     95  0.926189  0.113\n",
       "1        2   24           9     92  0.876043  0.131\n",
       "2        3   26           3     74  0.874662  0.146\n",
       "3        4   20           7     88  0.871432  0.122\n",
       "4        5   29          15    103  0.849330  0.122"
      ]
     },
     "execution_count": 17,
     "metadata": {},
     "output_type": "execute_result"
    }
   ],
   "source": [
    "combined_df.head()"
   ]
  },
  {
   "cell_type": "markdown",
   "metadata": {},
   "source": [
    "## 1.2 Responses Manipulation"
   ]
  },
  {
   "cell_type": "markdown",
   "metadata": {},
   "source": [
    "The following section can be uncommented to manipulate the randomized data"
   ]
  },
  {
   "cell_type": "code",
   "execution_count": 18,
   "metadata": {},
   "outputs": [],
   "source": [
    "# # Define the conditions\n",
    "# condition1 = (combined_df['experience'] > 4) & (combined_df['experience'] < 6)\n",
    "# condition2 = combined_df['experience'] > 7\n",
    "# condition3 = (combined_df['age'] > 16) & (combined_df['age'] < 20)\n",
    "# condition4 = (combined_df['age'] > 20) & (combined_df['age'] < 32)\n",
    "# condition5 = combined_df['age'] > 35\n",
    "\n",
    "# # Apply the conditions and modify the 'mean' column\n",
    "# combined_df.loc[condition1, 'mean'] = combined_df.loc[condition1, 'mean'] * 0.8\n",
    "# combined_df.loc[condition2, 'mean'] = combined_df.loc[condition2, 'mean'] * 0.6\n",
    "# combined_df.loc[condition3, 'mean'] = combined_df.loc[condition3, 'mean'] * 1.1\n",
    "# combined_df.loc[condition4, 'mean'] = combined_df.loc[condition4, 'mean'] * 0.7\n",
    "# combined_df.loc[condition5, 'mean'] = combined_df.loc[condition5, 'mean'] * 1.3\n"
   ]
  },
  {
   "cell_type": "code",
   "execution_count": 19,
   "metadata": {},
   "outputs": [
    {
     "data": {
      "text/html": [
       "<div>\n",
       "<style scoped>\n",
       "    .dataframe tbody tr th:only-of-type {\n",
       "        vertical-align: middle;\n",
       "    }\n",
       "\n",
       "    .dataframe tbody tr th {\n",
       "        vertical-align: top;\n",
       "    }\n",
       "\n",
       "    .dataframe thead th {\n",
       "        text-align: right;\n",
       "    }\n",
       "</style>\n",
       "<table border=\"1\" class=\"dataframe\">\n",
       "  <thead>\n",
       "    <tr style=\"text-align: right;\">\n",
       "      <th></th>\n",
       "      <th>user_id</th>\n",
       "      <th>age</th>\n",
       "      <th>experience</th>\n",
       "      <th>count</th>\n",
       "      <th>mean</th>\n",
       "      <th>min</th>\n",
       "    </tr>\n",
       "  </thead>\n",
       "  <tbody>\n",
       "    <tr>\n",
       "      <th>0</th>\n",
       "      <td>1</td>\n",
       "      <td>39</td>\n",
       "      <td>10</td>\n",
       "      <td>95</td>\n",
       "      <td>0.926189</td>\n",
       "      <td>0.113</td>\n",
       "    </tr>\n",
       "    <tr>\n",
       "      <th>1</th>\n",
       "      <td>2</td>\n",
       "      <td>24</td>\n",
       "      <td>9</td>\n",
       "      <td>92</td>\n",
       "      <td>0.876043</td>\n",
       "      <td>0.131</td>\n",
       "    </tr>\n",
       "    <tr>\n",
       "      <th>2</th>\n",
       "      <td>3</td>\n",
       "      <td>26</td>\n",
       "      <td>3</td>\n",
       "      <td>74</td>\n",
       "      <td>0.874662</td>\n",
       "      <td>0.146</td>\n",
       "    </tr>\n",
       "    <tr>\n",
       "      <th>3</th>\n",
       "      <td>4</td>\n",
       "      <td>20</td>\n",
       "      <td>7</td>\n",
       "      <td>88</td>\n",
       "      <td>0.871432</td>\n",
       "      <td>0.122</td>\n",
       "    </tr>\n",
       "    <tr>\n",
       "      <th>4</th>\n",
       "      <td>5</td>\n",
       "      <td>29</td>\n",
       "      <td>15</td>\n",
       "      <td>103</td>\n",
       "      <td>0.849330</td>\n",
       "      <td>0.122</td>\n",
       "    </tr>\n",
       "  </tbody>\n",
       "</table>\n",
       "</div>"
      ],
      "text/plain": [
       "   user_id  age  experience  count      mean    min\n",
       "0        1   39          10     95  0.926189  0.113\n",
       "1        2   24           9     92  0.876043  0.131\n",
       "2        3   26           3     74  0.874662  0.146\n",
       "3        4   20           7     88  0.871432  0.122\n",
       "4        5   29          15    103  0.849330  0.122"
      ]
     },
     "execution_count": 19,
     "metadata": {},
     "output_type": "execute_result"
    }
   ],
   "source": [
    "combined_df.head()"
   ]
  },
  {
   "cell_type": "markdown",
   "metadata": {},
   "source": [
    "# 2. Model"
   ]
  },
  {
   "cell_type": "markdown",
   "metadata": {},
   "source": [
    "## 2.1 Introduction"
   ]
  },
  {
   "cell_type": "markdown",
   "metadata": {},
   "source": [
    "Regression model for response time prediction"
   ]
  },
  {
   "cell_type": "markdown",
   "metadata": {},
   "source": [
    "## 2.2 Correlation"
   ]
  },
  {
   "cell_type": "markdown",
   "metadata": {},
   "source": [
    "Heatmap:"
   ]
  },
  {
   "cell_type": "code",
   "execution_count": 20,
   "metadata": {},
   "outputs": [
    {
     "data": {
      "image/png": "[encoded data removed]",
      "text/plain": [
       "<Figure size 1000x800 with 2 Axes>"
      ]
     },
     "metadata": {},
     "output_type": "display_data"
    }
   ],
   "source": [
    "# Select the columns for the heatmap\n",
    "heatmap_data = combined_df[['age', 'experience', 'count', 'mean', 'min']]\n",
    "\n",
    "# Create a correlation matrix\n",
    "correlation_matrix = heatmap_data.corr()\n",
    "\n",
    "# Create the heatmap\n",
    "plt.figure(figsize=(10, 8))\n",
    "sns.heatmap(correlation_matrix, annot=True, cmap='coolwarm', square=True)\n",
    "plt.title('Correlation Heatmap')\n",
    "plt.show()\n"
   ]
  },
  {
   "cell_type": "markdown",
   "metadata": {},
   "source": [
    "Scatterplot:"
   ]
  },
  {
   "cell_type": "code",
   "execution_count": 21,
   "metadata": {},
   "outputs": [
    {
     "data": {
      "image/png": "[encoded data removed]",
      "text/plain": [
       "<Figure size 640x480 with 1 Axes>"
      ]
     },
     "metadata": {},
     "output_type": "display_data"
    }
   ],
   "source": [
    "import matplotlib.pyplot as plt\n",
    "\n",
    "# Create the scatterplot\n",
    "plt.scatter(combined_df['age'], combined_df['mean'])\n",
    "plt.xlabel('Age')\n",
    "plt.ylabel('Mean')\n",
    "plt.title('Scatterplot of Mean vs. Age')\n",
    "plt.show()\n"
   ]
  },
  {
   "cell_type": "markdown",
   "metadata": {},
   "source": [
    "## 2.3 New features"
   ]
  },
  {
   "cell_type": "markdown",
   "metadata": {},
   "source": [
    "## 2.2 Data types"
   ]
  },
  {
   "cell_type": "code",
   "execution_count": 22,
   "metadata": {},
   "outputs": [
    {
     "data": {
      "text/plain": [
       "user_id         int64\n",
       "age             int64\n",
       "experience      int64\n",
       "count           int64\n",
       "mean          float64\n",
       "min           float64\n",
       "dtype: object"
      ]
     },
     "execution_count": 22,
     "metadata": {},
     "output_type": "execute_result"
    }
   ],
   "source": [
    "combined_df.dtypes"
   ]
  },
  {
   "cell_type": "markdown",
   "metadata": {},
   "source": [
    "fix before fitting in the model:"
   ]
  },
  {
   "cell_type": "code",
   "execution_count": 23,
   "metadata": {},
   "outputs": [
    {
     "name": "stdout",
     "output_type": "stream",
     "text": [
      "age             int32\n",
      "experience      int32\n",
      "count           int32\n",
      "mean          float64\n",
      "min           float64\n",
      "dtype: object\n"
     ]
    }
   ],
   "source": [
    "# Drop a single column by specifying its name\n",
    "df = combined_df\n",
    "df = df.drop('user_id', axis=1)\n",
    "\n",
    "#correct types\n",
    "df['age'] = df['age'].astype(int)\n",
    "df['experience'] = df['experience'].astype(int)\n",
    "df['count'] = df['count'].astype(int)\n",
    "\n",
    "# Print the data types of all columns\n",
    "print(df.dtypes)"
   ]
  },
  {
   "cell_type": "markdown",
   "metadata": {},
   "source": [
    "### 2.2.2 Scaling"
   ]
  },
  {
   "cell_type": "markdown",
   "metadata": {},
   "source": [
    "Data scaling is recommended in machine learning and data analysis to ensure comparable magnitudes among features, facilitate faster convergence of optimization algorithms, and prevent biases in distance-based algorithms. It enhances model performance, interpretability, and the ability to extract meaningful insights from the data."
   ]
  },
  {
   "cell_type": "code",
   "execution_count": 24,
   "metadata": {},
   "outputs": [],
   "source": [
    "from sklearn.preprocessing import StandardScaler\n",
    "\n",
    "# Initialize the scaler\n",
    "scaler = StandardScaler()\n",
    "\n",
    "#save the unscaled values for later refrences\n",
    "income_unscaled = df['mean']\n",
    "\n",
    "# Apply scaling to the 'Income' column\n",
    "df['mean'] = scaler.fit_transform(df[['mean']])"
   ]
  },
  {
   "cell_type": "markdown",
   "metadata": {},
   "source": [
    "## 2.2 Model"
   ]
  },
  {
   "cell_type": "markdown",
   "metadata": {},
   "source": [
    "The model:"
   ]
  },
  {
   "cell_type": "code",
   "execution_count": 25,
   "metadata": {},
   "outputs": [
    {
     "name": "stdout",
     "output_type": "stream",
     "text": [
      "Mean Squared Error: 0.001707322327589185\n"
     ]
    }
   ],
   "source": [
    "from sklearn.linear_model import LinearRegression\n",
    "from sklearn.model_selection import train_test_split\n",
    "from sklearn.metrics import mean_squared_error\n",
    "\n",
    "# Prepare the data\n",
    "X = combined_df[['age', 'experience']]\n",
    "y = combined_df['mean']\n",
    "\n",
    "# Split the data into training and testing sets\n",
    "X_train, X_test, y_train, y_test = train_test_split(X, y, test_size=0.2, random_state=42)\n",
    "\n",
    "# Create a Linear Regression model\n",
    "model = LinearRegression()\n",
    "\n",
    "# Train the model\n",
    "model.fit(X_train, y_train)\n",
    "\n",
    "# Make predictions\n",
    "y_pred = model.predict(X_test)\n",
    "\n",
    "# Evaluate the model\n",
    "mse = mean_squared_error(y_test, y_pred)\n",
    "print('Mean Squared Error:', mse)\n"
   ]
  },
  {
   "cell_type": "markdown",
   "metadata": {},
   "source": [
    "## 2.2 Predict"
   ]
  },
  {
   "cell_type": "markdown",
   "metadata": {},
   "source": [
    "Predict:"
   ]
  },
  {
   "cell_type": "code",
   "execution_count": 26,
   "metadata": {},
   "outputs": [],
   "source": [
    "def predict_mean(age, experience):\n",
    "    # Create a new DataFrame with the input values\n",
    "    data = pd.DataFrame({'age': [age], 'experience': [experience]})\n",
    "\n",
    "    # Make the prediction using the trained model\n",
    "    prediction = model.predict(data)\n",
    "\n",
    "    return prediction[0]\n"
   ]
  },
  {
   "cell_type": "code",
   "execution_count": 27,
   "metadata": {},
   "outputs": [
    {
     "name": "stdout",
     "output_type": "stream",
     "text": [
      "Predicted Mean: 0.8527281030466003\n"
     ]
    }
   ],
   "source": [
    "predicted_mean = predict_mean(30, 8)\n",
    "print('Predicted Mean:', predicted_mean)\n"
   ]
  },
  {
   "cell_type": "markdown",
   "metadata": {
    "tags": []
   },
   "source": [
    "# 3. Pipeline"
   ]
  },
  {
   "cell_type": "code",
   "execution_count": 28,
   "metadata": {},
   "outputs": [],
   "source": [
    "# from sklearn.pipeline import Pipeline\n",
    "# from sklearn.compose import ColumnTransformer\n",
    "# from sklearn.impute import SimpleImputer\n",
    "# from sklearn.preprocessing import StandardScaler, OneHotEncoder\n",
    "# from sklearn.model_selection import train_test_split\n",
    "# from sklearn.linear_model import LogisticRegression\n",
    "\n",
    "# # Split the dataset into features (X) and target variable (y)\n",
    "# init_df = pd.read_csv('data/toy.csv', sep = ',', low_memory=False)\n",
    "# X = init_df.drop('Illness', axis=1) # all but illness\n",
    "# y = init_df['Illness']\n",
    "\n",
    "# # Define the preprocessing steps for numerical and categorical columns\n",
    "# numeric_features = ['Age', 'Income']\n",
    "# categorical_features = ['City', 'Gender']\n",
    "\n",
    "# numeric_transformer = Pipeline(steps=[\n",
    "#     ('imputer', SimpleImputer(strategy='median')),\n",
    "#     ('scaler', StandardScaler())\n",
    "# ])\n",
    "\n",
    "# categorical_transformer = Pipeline(steps=[\n",
    "#     ('imputer', SimpleImputer(strategy='most_frequent')),\n",
    "#     ('encoder', OneHotEncoder())\n",
    "# ])\n",
    "\n",
    "# # Create the column transformer to apply the appropriate preprocessing steps to different columns\n",
    "# preprocessor = ColumnTransformer(\n",
    "#     transformers=[\n",
    "#         ('numeric', numeric_transformer, numeric_features),\n",
    "#         ('categorical', categorical_transformer, categorical_features)\n",
    "#     ])\n",
    "\n",
    "# # Split the data into train and test sets\n",
    "# X_train, X_test, y_train, y_test = train_test_split(X, y, test_size=0.2, random_state=42)\n",
    "\n",
    "# # Create the pipeline by combining the preprocessing steps with the classification model\n",
    "# pipeline = Pipeline(steps=[\n",
    "#     ('preprocessor', preprocessor),\n",
    "#     ('classifier', LogisticRegression())\n",
    "# ])\n",
    "\n",
    "# # Fit the pipeline to the training data\n",
    "# pipeline.fit(X_train, y_train)\n",
    "\n",
    "# # Evaluate the model on the test data\n",
    "# accuracy = pipeline.score(X_test, y_test)\n",
    "# print(f\"Accuracy: {accuracy}\")\n"
   ]
  },
  {
   "cell_type": "markdown",
   "metadata": {},
   "source": [
    "# 4. Discussion"
   ]
  },
  {
   "cell_type": "markdown",
   "metadata": {},
   "source": [
    "///"
   ]
  }
 ],
 "metadata": {
  "kernelspec": {
   "display_name": "Python 3 (ipykernel)",
   "language": "python",
   "name": "python3"
  },
  "language_info": {
   "codemirror_mode": {
    "name": "ipython",
    "version": 3
   },
   "file_extension": ".py",
   "mimetype": "text/x-python",
   "name": "python",
   "nbconvert_exporter": "python",
   "pygments_lexer": "ipython3",
   "version": "3.9.16"
  }
 },
 "nbformat": 4,
 "nbformat_minor": 4
}
