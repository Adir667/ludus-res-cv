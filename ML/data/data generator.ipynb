{
 "cells": [
  {
   "cell_type": "markdown",
   "id": "39ff5a5c-36df-45c4-8470-6f83d30d2cd5",
   "metadata": {
    "tags": []
   },
   "source": [
    "# Users"
   ]
  },
  {
   "cell_type": "code",
   "execution_count": 4,
   "id": "19640ff2-5cd6-4515-9403-b3f6790ccfac",
   "metadata": {},
   "outputs": [
    {
     "name": "stdout",
     "output_type": "stream",
     "text": [
      "CSV file 'users.csv' generated successfully.\n"
     ]
    }
   ],
   "source": [
    "import csv\n",
    "import random\n",
    "from datetime import datetime, timedelta\n",
    "\n",
    "num_records = 1000\n",
    "\n",
    "# Generate a random date between min_date and max_date\n",
    "def random_date(min_date, max_date):\n",
    "    time_between = max_date - min_date\n",
    "    random_days = random.randrange(time_between.days)\n",
    "    return min_date + timedelta(days=random_days)\n",
    "\n",
    "min_date_of_birth = datetime(1970, 1, 1)\n",
    "max_date_of_birth = datetime(2005, 12, 31)\n",
    "\n",
    "first_names = ['Adir', 'John', 'Nick', 'Murat', 'Wiley']\n",
    "last_names = ['Smith', 'Doe', 'Holland', 'Ludus', 'Jansen']\n",
    "\n",
    "# Generate random records\n",
    "records = []\n",
    "for user_id in range(num_records):\n",
    "    first_name = random.choice(first_names)\n",
    "    last_name = random.choice(last_names)\n",
    "    field_id = random.randint(1, 10)\n",
    "    club_id = random.randint(1, 20)\n",
    "    date_of_birth = random_date(min_date_of_birth, max_date_of_birth).strftime(\"%Y-%m-%d\")\n",
    "    experience =  random.randint(1, 15)\n",
    "    records.append([(user_id+1), first_name, last_name, field_id, club_id, date_of_birth, experience])\n",
    "    \n",
    "# Define the CSV file path\n",
    "csv_file = \"users.csv\"\n",
    "\n",
    "# Write the records to the CSV file\n",
    "with open(csv_file, mode='w', newline='') as file:\n",
    "    writer = csv.writer(file)\n",
    "    writer.writerow([\"user_id\", \"first_name\", \"last_name\", \"field_id\", \"club_id\", \"date_of_birth\", \"experience\"])  # Write header\n",
    "    writer.writerows(records)\n",
    "\n",
    "print(f\"CSV file '{csv_file}' generated successfully.\")\n"
   ]
  },
  {
   "cell_type": "markdown",
   "id": "4969b268-de03-4790-8d32-9d4cef66eaaa",
   "metadata": {
    "tags": []
   },
   "source": [
    "# Clubs"
   ]
  },
  {
   "cell_type": "code",
   "execution_count": 1,
   "id": "aa743f26-9115-41cf-8537-94d2c292ad2c",
   "metadata": {},
   "outputs": [
    {
     "name": "stdout",
     "output_type": "stream",
     "text": [
      "CSV file 'clubs.csv' generated successfully.\n"
     ]
    }
   ],
   "source": [
    "import csv\n",
    "import random\n",
    "from datetime import datetime, timedelta\n",
    "\n",
    "num_records = 20\n",
    "\n",
    "club_first_names = ['Tigers', 'Lions', 'Warriors', 'Rats', 'Wolfs']\n",
    "club_last_names = ['Dark', 'Ludus', 'Sun', 'Sea', 'Sky']\n",
    "country_codes = ['NL', 'DE', 'IL', 'US', 'FR', 'AU', 'UK', 'BR']\n",
    "\n",
    "# Generate random records\n",
    "records = []\n",
    "for club_id in range(num_records):\n",
    "    cl = random.choice(club_first_names)\n",
    "    ub = random.choice(club_last_names)\n",
    "    name = cl + ' of the ' + ub\n",
    "    country = random.choice(country_codes)\n",
    "    records.append([(club_id+1), name, country])\n",
    "\n",
    "# Define the CSV file path\n",
    "csv_file = \"clubs.csv\"\n",
    "\n",
    "# Write the records to the CSV file\n",
    "with open(csv_file, mode='w', newline='') as file:\n",
    "    writer = csv.writer(file)\n",
    "    writer.writerow([\"club_id\", \"name\", \"country\"])  # Write header\n",
    "    writer.writerows(records)\n",
    "\n",
    "print(f\"CSV file '{csv_file}' generated successfully.\")\n"
   ]
  },
  {
   "cell_type": "markdown",
   "id": "07470182-8c65-441c-ac26-0ddb34e65f94",
   "metadata": {
    "tags": []
   },
   "source": [
    "# Responses"
   ]
  },
  {
   "cell_type": "code",
   "execution_count": 2,
   "id": "4910c30e-70fb-47b3-bdbe-4e8cb2330d20",
   "metadata": {},
   "outputs": [
    {
     "name": "stdout",
     "output_type": "stream",
     "text": [
      "CSV file 'responses.csv' generated successfully.\n"
     ]
    }
   ],
   "source": [
    "import csv\n",
    "import random\n",
    "from datetime import datetime, timedelta\n",
    "\n",
    "num_records = 100000\n",
    "\n",
    "# Generate random records\n",
    "records = []\n",
    "for _ in range(num_records):\n",
    "    user_id = random.randint(1, 1000)\n",
    "    value = round(random.uniform(0.105, 1.605), 3) #3 digits after the decimal\n",
    "    timestamp = random.randint(1670000000, 1684894911)\n",
    "    records.append([user_id, value, timestamp])\n",
    "\n",
    "# Define the CSV file path\n",
    "csv_file = \"responses.csv\"\n",
    "\n",
    "# Write the records to the CSV file\n",
    "with open(csv_file, mode='w', newline='') as file:\n",
    "    writer = csv.writer(file)\n",
    "    writer.writerow([\"user_id\", \"value\", \"timestamp\"])  # Write header\n",
    "    writer.writerows(records)\n",
    "\n",
    "print(f\"CSV file '{csv_file}' generated successfully.\")\n"
   ]
  },
  {
   "cell_type": "code",
   "execution_count": null,
   "id": "abffda28-185f-46e4-8bc8-853617e4e825",
   "metadata": {},
   "outputs": [],
   "source": []
  }
 ],
 "metadata": {
  "kernelspec": {
   "display_name": "Python 3 (ipykernel)",
   "language": "python",
   "name": "python3"
  },
  "language_info": {
   "codemirror_mode": {
    "name": "ipython",
    "version": 3
   },
   "file_extension": ".py",
   "mimetype": "text/x-python",
   "name": "python",
   "nbconvert_exporter": "python",
   "pygments_lexer": "ipython3",
   "version": "3.9.16"
  }
 },
 "nbformat": 4,
 "nbformat_minor": 5
}
